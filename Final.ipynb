{
 "cells": [
  {
   "cell_type": "code",
   "execution_count": 1,
   "id": "dd57f52f-4ac2-446c-b496-47fe6f354e1b",
   "metadata": {},
   "outputs": [],
   "source": [
    "import numpy as np  # Using for different problems related to numericals operations\n",
    "import pandas as pd  # Using to the read the csv dataset\n",
    "import tensorflow as tf\n",
    "from colorama import Back, Fore\n",
    "from tensorflow.keras.layers import LSTM, Bidirectional, Dense, Embedding\n",
    "from tensorflow.keras.models import Sequential\n",
    "from tensorflow.keras.optimizers import Adam\n",
    "from tensorflow.keras.preprocessing.sequence import pad_sequences\n",
    "from tensorflow.keras.preprocessing.text import Tokenizer\n",
    "from termcolor import colored, cprint"
   ]
  },
  {
   "cell_type": "code",
   "execution_count": 2,
   "id": "0f00788b-b982-4768-a1bc-970c32f1a751",
   "metadata": {},
   "outputs": [
    {
     "data": {
      "text/html": [
       "<div>\n",
       "<style scoped>\n",
       "    .dataframe tbody tr th:only-of-type {\n",
       "        vertical-align: middle;\n",
       "    }\n",
       "\n",
       "    .dataframe tbody tr th {\n",
       "        vertical-align: top;\n",
       "    }\n",
       "\n",
       "    .dataframe thead th {\n",
       "        text-align: right;\n",
       "    }\n",
       "</style>\n",
       "<table border=\"1\" class=\"dataframe\">\n",
       "  <thead>\n",
       "    <tr style=\"text-align: right;\">\n",
       "      <th></th>\n",
       "      <th>id</th>\n",
       "      <th>url</th>\n",
       "      <th>title</th>\n",
       "      <th>subtitle</th>\n",
       "      <th>image</th>\n",
       "      <th>claps</th>\n",
       "      <th>responses</th>\n",
       "      <th>reading_time</th>\n",
       "      <th>publication</th>\n",
       "      <th>date</th>\n",
       "    </tr>\n",
       "  </thead>\n",
       "  <tbody>\n",
       "    <tr>\n",
       "      <th>0</th>\n",
       "      <td>1</td>\n",
       "      <td>https://towardsdatascience.com/a-beginners-gui...</td>\n",
       "      <td>A Beginner’s Guide to Word Embedding with Gens...</td>\n",
       "      <td>NaN</td>\n",
       "      <td>1.png</td>\n",
       "      <td>850</td>\n",
       "      <td>8</td>\n",
       "      <td>8</td>\n",
       "      <td>Towards Data Science</td>\n",
       "      <td>2019-05-30</td>\n",
       "    </tr>\n",
       "    <tr>\n",
       "      <th>1</th>\n",
       "      <td>2</td>\n",
       "      <td>https://towardsdatascience.com/hands-on-graph-...</td>\n",
       "      <td>Hands-on Graph Neural Networks with PyTorch &amp; ...</td>\n",
       "      <td>NaN</td>\n",
       "      <td>2.png</td>\n",
       "      <td>1100</td>\n",
       "      <td>11</td>\n",
       "      <td>9</td>\n",
       "      <td>Towards Data Science</td>\n",
       "      <td>2019-05-30</td>\n",
       "    </tr>\n",
       "    <tr>\n",
       "      <th>2</th>\n",
       "      <td>3</td>\n",
       "      <td>https://towardsdatascience.com/how-to-use-ggpl...</td>\n",
       "      <td>How to Use ggplot2 in Python</td>\n",
       "      <td>A Grammar of Graphics for Python</td>\n",
       "      <td>3.png</td>\n",
       "      <td>767</td>\n",
       "      <td>1</td>\n",
       "      <td>5</td>\n",
       "      <td>Towards Data Science</td>\n",
       "      <td>2019-05-30</td>\n",
       "    </tr>\n",
       "    <tr>\n",
       "      <th>3</th>\n",
       "      <td>4</td>\n",
       "      <td>https://towardsdatascience.com/databricks-how-...</td>\n",
       "      <td>Databricks: How to Save Files in CSV on Your L...</td>\n",
       "      <td>When I work on Python projects dealing…</td>\n",
       "      <td>4.jpeg</td>\n",
       "      <td>354</td>\n",
       "      <td>0</td>\n",
       "      <td>4</td>\n",
       "      <td>Towards Data Science</td>\n",
       "      <td>2019-05-30</td>\n",
       "    </tr>\n",
       "    <tr>\n",
       "      <th>4</th>\n",
       "      <td>5</td>\n",
       "      <td>https://towardsdatascience.com/a-step-by-step-...</td>\n",
       "      <td>A Step-by-Step Implementation of Gradient Desc...</td>\n",
       "      <td>One example of building neural…</td>\n",
       "      <td>5.jpeg</td>\n",
       "      <td>211</td>\n",
       "      <td>3</td>\n",
       "      <td>4</td>\n",
       "      <td>Towards Data Science</td>\n",
       "      <td>2019-05-30</td>\n",
       "    </tr>\n",
       "  </tbody>\n",
       "</table>\n",
       "</div>"
      ],
      "text/plain": [
       "   id                                                url  \\\n",
       "0   1  https://towardsdatascience.com/a-beginners-gui...   \n",
       "1   2  https://towardsdatascience.com/hands-on-graph-...   \n",
       "2   3  https://towardsdatascience.com/how-to-use-ggpl...   \n",
       "3   4  https://towardsdatascience.com/databricks-how-...   \n",
       "4   5  https://towardsdatascience.com/a-step-by-step-...   \n",
       "\n",
       "                                               title  \\\n",
       "0  A Beginner’s Guide to Word Embedding with Gens...   \n",
       "1  Hands-on Graph Neural Networks with PyTorch & ...   \n",
       "2                       How to Use ggplot2 in Python   \n",
       "3  Databricks: How to Save Files in CSV on Your L...   \n",
       "4  A Step-by-Step Implementation of Gradient Desc...   \n",
       "\n",
       "                                  subtitle   image  claps responses  \\\n",
       "0                                      NaN   1.png    850         8   \n",
       "1                                      NaN   2.png   1100        11   \n",
       "2         A Grammar of Graphics for Python   3.png    767         1   \n",
       "3  When I work on Python projects dealing…  4.jpeg    354         0   \n",
       "4          One example of building neural…  5.jpeg    211         3   \n",
       "\n",
       "   reading_time           publication        date  \n",
       "0             8  Towards Data Science  2019-05-30  \n",
       "1             9  Towards Data Science  2019-05-30  \n",
       "2             5  Towards Data Science  2019-05-30  \n",
       "3             4  Towards Data Science  2019-05-30  \n",
       "4             4  Towards Data Science  2019-05-30  "
      ]
     },
     "execution_count": 2,
     "metadata": {},
     "output_type": "execute_result"
    }
   ],
   "source": [
    "df = pd.read_csv(\"medium_data.csv\")\n",
    "df.head()"
   ]
  },
  {
   "cell_type": "markdown",
   "id": "411eed2d-5ef5-404b-a9c1-9af565ab1e39",
   "metadata": {},
   "source": [
    "### Checking the shape of the dataset"
   ]
  },
  {
   "cell_type": "code",
   "execution_count": 3,
   "id": "0304d906-7df2-4c26-ab97-09831667425b",
   "metadata": {},
   "outputs": [
    {
     "name": "stdout",
     "output_type": "stream",
     "text": [
      "Number of records:  6508\n",
      "Number of fields:  10\n"
     ]
    }
   ],
   "source": [
    "print(\"Number of records: \", df.shape[0])\n",
    "print(\"Number of fields: \", df.shape[1])"
   ]
  },
  {
   "cell_type": "markdown",
   "id": "31644cec-9fde-483b-b7ec-7bc57078ef99",
   "metadata": {},
   "source": [
    "Display titles of various articles and preprocess them"
   ]
  },
  {
   "cell_type": "code",
   "execution_count": 4,
   "id": "811cbe6f-e5a8-4ca7-adec-fc9f0bcfbe4d",
   "metadata": {},
   "outputs": [
    {
     "data": {
      "text/plain": [
       "0       A Beginner’s Guide to Word Embedding with Gens...\n",
       "1       Hands-on Graph Neural Networks with PyTorch & ...\n",
       "2                            How to Use ggplot2 in Python\n",
       "3       Databricks: How to Save Files in CSV on Your L...\n",
       "4       A Step-by-Step Implementation of Gradient Desc...\n",
       "                              ...                        \n",
       "6503    “We” vs “I” — How Should You Talk About Yourse...\n",
       "6504                     How Donald Trump Markets Himself\n",
       "6505        Content and Marketing Beyond Mass Consumption\n",
       "6506    5 Questions All Copywriters Should Ask Clients...\n",
       "6507               How To Write a Good Business Blog Post\n",
       "Name: title, Length: 6508, dtype: object"
      ]
     },
     "execution_count": 4,
     "metadata": {},
     "output_type": "execute_result"
    }
   ],
   "source": [
    "df[\"title\"]"
   ]
  },
  {
   "cell_type": "markdown",
   "id": "93e244b5-6c96-4a4e-b8b3-98879f96669b",
   "metadata": {},
   "source": [
    "Checking of any Null values"
   ]
  },
  {
   "cell_type": "code",
   "execution_count": 5,
   "id": "b445b7c2-c840-4c10-8af5-5472d6d58e1c",
   "metadata": {},
   "outputs": [
    {
     "data": {
      "text/plain": [
       "0"
      ]
     },
     "execution_count": 5,
     "metadata": {},
     "output_type": "execute_result"
    }
   ],
   "source": [
    "df[\"title\"].isna().sum()"
   ]
  },
  {
   "cell_type": "code",
   "execution_count": 6,
   "id": "289b0060-c249-4fb7-aa01-cc0dd9ef40dc",
   "metadata": {},
   "outputs": [],
   "source": [
    "df[\"title\"] = df[\"title\"].apply(lambda x: x.replace(\"\\xa0\", \" \"))\n",
    "df[\"title\"] = df[\"title\"].apply(lambda x: x.replace(\"\\u200a\", \" \"))"
   ]
  },
  {
   "cell_type": "code",
   "execution_count": 7,
   "id": "f9b6533b-a906-4984-97b9-9caebcced0ad",
   "metadata": {},
   "outputs": [
    {
     "data": {
      "text/plain": [
       "0       A Beginner’s Guide to Word Embedding with Gens...\n",
       "1       Hands-on Graph Neural Networks with PyTorch & ...\n",
       "2                            How to Use ggplot2 in Python\n",
       "3       Databricks: How to Save Files in CSV on Your L...\n",
       "4       A Step-by-Step Implementation of Gradient Desc...\n",
       "                              ...                        \n",
       "6503    “We” vs “I” — How Should You Talk About Yourse...\n",
       "6504                     How Donald Trump Markets Himself\n",
       "6505        Content and Marketing Beyond Mass Consumption\n",
       "6506    5 Questions All Copywriters Should Ask Clients...\n",
       "6507               How To Write a Good Business Blog Post\n",
       "Name: title, Length: 6508, dtype: object"
      ]
     },
     "execution_count": 7,
     "metadata": {},
     "output_type": "execute_result"
    }
   ],
   "source": [
    "df[\"title\"]"
   ]
  },
  {
   "cell_type": "code",
   "execution_count": 8,
   "id": "fe545414-5f4b-425c-9b0d-3eefb3a49dde",
   "metadata": {},
   "outputs": [],
   "source": [
    "from tensorflow.keras.preprocessing.text import Tokenizer"
   ]
  },
  {
   "cell_type": "code",
   "execution_count": 9,
   "id": "e7939950-6ad3-4c80-b72d-3551fdbfd542",
   "metadata": {},
   "outputs": [
    {
     "name": "stdout",
     "output_type": "stream",
     "text": [
      "Total number of words:  8238\n",
      "Word: ID\n",
      "------------\n",
      "<oov>:  1\n",
      "Strong:  4\n",
      "And:  8\n",
      "Consumption:  8237\n",
      "------------\n",
      "Example how the data is stored :-\n",
      " [('<oov>', 1), ('to', 2), ('the', 3), ('strong', 4), ('a', 5)]\n"
     ]
    }
   ],
   "source": [
    "tokenizer = Tokenizer(\n",
    "    oov_token=\"<oov>\"\n",
    ")  # For those words which are not found in word_index\n",
    "tokenizer.fit_on_texts(df[\"title\"])\n",
    "total_words = len(tokenizer.word_index) + 1\n",
    "\n",
    "print(\"Total number of words: \", total_words)\n",
    "print(\"Word: ID\")\n",
    "print(\"------------\")\n",
    "print(\"<oov>: \", tokenizer.word_index[\"<oov>\"])\n",
    "print(\"Strong: \", tokenizer.word_index[\"strong\"])\n",
    "print(\"And: \", tokenizer.word_index[\"and\"])\n",
    "print(\"Consumption: \", tokenizer.word_index[\"consumption\"])\n",
    "print(\"------------\")\n",
    "print(\"Example how the data is stored :-\\n\", list(tokenizer.word_index.items())[:5])"
   ]
  },
  {
   "cell_type": "code",
   "execution_count": 11,
   "id": "ba468e58-f15c-4584-8799-bf800c9cca08",
   "metadata": {},
   "outputs": [
    {
     "name": "stdout",
     "output_type": "stream",
     "text": [
      "This is What token list looks like :- [7, 2, 65, 5, 85, 56, 730, 550]\n",
      "\u001b[33m------------\u001b[0m\n",
      "Total input sequences:  48461\n",
      "\u001b[33m------------\u001b[0m\n",
      "('a', 5)\n",
      "('beginner’s', 676)\n",
      "('guide', 68)\n",
      "('to', 2)\n",
      "('word', 452)\n",
      "('embedding', 1518)\n",
      "\u001b[33m------------\u001b[0m\n",
      "This sentence is converted into the below sequence ::\n",
      "\u001b[41m A Beginner’s Guide to Word Embedding with Gensim Word2Vec Model\n"
     ]
    },
    {
     "data": {
      "text/plain": [
       "[[5, 676],\n",
       " [5, 676, 68],\n",
       " [5, 676, 68, 2],\n",
       " [5, 676, 68, 2, 452],\n",
       " [5, 676, 68, 2, 452, 1518],\n",
       " [5, 676, 68, 2, 452, 1518, 14],\n",
       " [5, 676, 68, 2, 452, 1518, 14, 2455],\n",
       " [5, 676, 68, 2, 452, 1518, 14, 2455, 3653],\n",
       " [5, 676, 68, 2, 452, 1518, 14, 2455, 3653, 99]]"
      ]
     },
     "execution_count": 11,
     "metadata": {},
     "output_type": "execute_result"
    }
   ],
   "source": [
    "input_sequences = []\n",
    "for line in df[\"title\"]:\n",
    "    token_list = tokenizer.texts_to_sequences([line])[0]\n",
    "    # print(token_list)\n",
    "\n",
    "    for i in range(1, len(token_list)):\n",
    "        n_gram_sequence = token_list[: i + 1]\n",
    "        input_sequences.append(n_gram_sequence)\n",
    "\n",
    "print(\"This is What token list looks like :-\", token_list)\n",
    "cprint(\"------------\", \"yellow\")\n",
    "# print(input_sequences)\n",
    "print(\"Total input sequences: \", len(input_sequences))\n",
    "cprint(\"------------\", \"yellow\")\n",
    "print(list(tokenizer.word_index.items())[4])\n",
    "print(list(tokenizer.word_index.items())[675])\n",
    "print(list(tokenizer.word_index.items())[67])\n",
    "print(list(tokenizer.word_index.items())[1])\n",
    "print(list(tokenizer.word_index.items())[451])\n",
    "print(list(tokenizer.word_index.items())[1517])\n",
    "cprint(\"------------\", \"yellow\")\n",
    "print(\"This sentence is converted into the below sequence ::\")\n",
    "print(Back.RED, df[\"title\"][0])\n",
    "# print(len(list(tokenizer.word_index.items())))\n",
    "input_sequences[:9]"
   ]
  },
  {
   "cell_type": "code",
   "execution_count": 12,
   "id": "20af67be-cc04-4f4b-9c0c-875772cc9f0a",
   "metadata": {},
   "outputs": [],
   "source": [
    "import pickle\n",
    "\n",
    "# saving\n",
    "with open(\"tokenizer.pickle\", \"wb\") as handle:\n",
    "    pickle.dump(tokenizer, handle, protocol=pickle.HIGHEST_PROTOCOL)"
   ]
  },
  {
   "cell_type": "code",
   "execution_count": 13,
   "id": "382b19c6-0b56-4568-95d1-9dc82d7cb41f",
   "metadata": {},
   "outputs": [
    {
     "data": {
      "text/plain": [
       "40"
      ]
     },
     "execution_count": 13,
     "metadata": {},
     "output_type": "execute_result"
    }
   ],
   "source": [
    "from tensorflow.keras.preprocessing.sequence import pad_sequences\n",
    "\n",
    "max_sequence_len = max([len(x) for x in input_sequences])\n",
    "# get the maximum length sequence\n",
    "max_sequence_len"
   ]
  },
  {
   "cell_type": "code",
   "execution_count": 14,
   "id": "00a3a13c-78fe-4bd6-8a2d-03cadbb14d73",
   "metadata": {},
   "outputs": [
    {
     "data": {
      "text/plain": [
       "array([   0,    0,    0,    0,    0,    0,    0,    0,    0,    0,    0,\n",
       "          0,    0,    0,    0,    0,    0,    0,    0,    0,    0,    0,\n",
       "          0,    0,    0,    0,    0,    0,    0,    0,    5,  676,   68,\n",
       "          2,  452, 1518,   14, 2455, 3653,   99])"
      ]
     },
     "execution_count": 14,
     "metadata": {},
     "output_type": "execute_result"
    }
   ],
   "source": [
    "input_sequences = np.array(\n",
    "    pad_sequences(input_sequences, maxlen=max_sequence_len, padding=\"pre\")\n",
    ")\n",
    "input_sequences[8]"
   ]
  },
  {
   "cell_type": "code",
   "execution_count": 15,
   "id": "c9b579ea-792c-4e23-8165-432cc8ca0f19",
   "metadata": {},
   "outputs": [
    {
     "data": {
      "text/plain": [
       "array([[  0,   0,   0, ...,   0,   5, 676],\n",
       "       [  0,   0,   0, ...,   5, 676,  68],\n",
       "       [  0,   0,   0, ..., 676,  68,   2],\n",
       "       ...,\n",
       "       [  0,   0,   0, ...,   5,  85,  56],\n",
       "       [  0,   0,   0, ...,  85,  56, 730],\n",
       "       [  0,   0,   0, ...,  56, 730, 550]])"
      ]
     },
     "execution_count": 15,
     "metadata": {},
     "output_type": "execute_result"
    }
   ],
   "source": [
    "input_sequences[:, :]  # This is the original sequences"
   ]
  },
  {
   "cell_type": "code",
   "execution_count": 16,
   "id": "4b721461-7f17-4745-b0dd-befef8c18b8c",
   "metadata": {},
   "outputs": [
    {
     "data": {
      "text/plain": [
       "array([[  0,   0,   0, ...,   0,   0,   5],\n",
       "       [  0,   0,   0, ...,   0,   5, 676],\n",
       "       [  0,   0,   0, ...,   5, 676,  68],\n",
       "       ...,\n",
       "       [  0,   0,   0, ...,  65,   5,  85],\n",
       "       [  0,   0,   0, ...,   5,  85,  56],\n",
       "       [  0,   0,   0, ...,  85,  56, 730]])"
      ]
     },
     "execution_count": 16,
     "metadata": {},
     "output_type": "execute_result"
    }
   ],
   "source": [
    "input_sequences[:, :-1]  # This is the sequences leaving the last element"
   ]
  },
  {
   "cell_type": "code",
   "execution_count": 17,
   "id": "ce9da45d-71a4-4b2c-a6c5-976a510caa3a",
   "metadata": {},
   "outputs": [
    {
     "data": {
      "text/plain": [
       "array([676,  68,   2, ...,  56, 730, 550])"
      ]
     },
     "execution_count": 17,
     "metadata": {},
     "output_type": "execute_result"
    }
   ],
   "source": [
    "input_sequences[:, -1]  # This is the last element which was omitted"
   ]
  },
  {
   "cell_type": "code",
   "execution_count": 18,
   "id": "6838835d-292c-4b59-b3dc-b81d6e411fe5",
   "metadata": {},
   "outputs": [
    {
     "name": "stdout",
     "output_type": "stream",
     "text": [
      "[   0    0    0    0    0    0    0    0    0    0    0    0    0    0\n",
      "    0    0    0    0    0    0    0    0    0    0    0    0    0    0\n",
      "    0    0    0    0    0    5  676   68    2  452 1518]\n",
      "14\n"
     ]
    }
   ],
   "source": [
    "xs, labels = input_sequences[:, :-1], input_sequences[:, -1]\n",
    "print(xs[5])\n",
    "print(labels[5])"
   ]
  },
  {
   "cell_type": "code",
   "execution_count": 19,
   "id": "743732c9-b3c6-4ab5-84bf-f0cf15cce581",
   "metadata": {},
   "outputs": [
    {
     "name": "stdout",
     "output_type": "stream",
     "text": [
      "\u001b[32mPerforming ONE-HOT ENCODING.....\u001b[0m\n",
      "At row-5 and col-14 == 1.0\n"
     ]
    },
    {
     "data": {
      "text/html": [
       "<div>\n",
       "<style scoped>\n",
       "    .dataframe tbody tr th:only-of-type {\n",
       "        vertical-align: middle;\n",
       "    }\n",
       "\n",
       "    .dataframe tbody tr th {\n",
       "        vertical-align: top;\n",
       "    }\n",
       "\n",
       "    .dataframe thead th {\n",
       "        text-align: right;\n",
       "    }\n",
       "</style>\n",
       "<table border=\"1\" class=\"dataframe\">\n",
       "  <thead>\n",
       "    <tr style=\"text-align: right;\">\n",
       "      <th></th>\n",
       "      <th>0</th>\n",
       "      <th>1</th>\n",
       "      <th>2</th>\n",
       "      <th>3</th>\n",
       "      <th>4</th>\n",
       "      <th>5</th>\n",
       "      <th>6</th>\n",
       "      <th>7</th>\n",
       "      <th>8</th>\n",
       "      <th>9</th>\n",
       "      <th>...</th>\n",
       "      <th>8228</th>\n",
       "      <th>8229</th>\n",
       "      <th>8230</th>\n",
       "      <th>8231</th>\n",
       "      <th>8232</th>\n",
       "      <th>8233</th>\n",
       "      <th>8234</th>\n",
       "      <th>8235</th>\n",
       "      <th>8236</th>\n",
       "      <th>8237</th>\n",
       "    </tr>\n",
       "  </thead>\n",
       "  <tbody>\n",
       "    <tr>\n",
       "      <th>0</th>\n",
       "      <td>0.0</td>\n",
       "      <td>0.0</td>\n",
       "      <td>0.0</td>\n",
       "      <td>0.0</td>\n",
       "      <td>0.0</td>\n",
       "      <td>0.0</td>\n",
       "      <td>0.0</td>\n",
       "      <td>0.0</td>\n",
       "      <td>0.0</td>\n",
       "      <td>0.0</td>\n",
       "      <td>...</td>\n",
       "      <td>0.0</td>\n",
       "      <td>0.0</td>\n",
       "      <td>0.0</td>\n",
       "      <td>0.0</td>\n",
       "      <td>0.0</td>\n",
       "      <td>0.0</td>\n",
       "      <td>0.0</td>\n",
       "      <td>0.0</td>\n",
       "      <td>0.0</td>\n",
       "      <td>0.0</td>\n",
       "    </tr>\n",
       "    <tr>\n",
       "      <th>1</th>\n",
       "      <td>0.0</td>\n",
       "      <td>0.0</td>\n",
       "      <td>0.0</td>\n",
       "      <td>0.0</td>\n",
       "      <td>0.0</td>\n",
       "      <td>0.0</td>\n",
       "      <td>0.0</td>\n",
       "      <td>0.0</td>\n",
       "      <td>0.0</td>\n",
       "      <td>0.0</td>\n",
       "      <td>...</td>\n",
       "      <td>0.0</td>\n",
       "      <td>0.0</td>\n",
       "      <td>0.0</td>\n",
       "      <td>0.0</td>\n",
       "      <td>0.0</td>\n",
       "      <td>0.0</td>\n",
       "      <td>0.0</td>\n",
       "      <td>0.0</td>\n",
       "      <td>0.0</td>\n",
       "      <td>0.0</td>\n",
       "    </tr>\n",
       "    <tr>\n",
       "      <th>2</th>\n",
       "      <td>0.0</td>\n",
       "      <td>0.0</td>\n",
       "      <td>1.0</td>\n",
       "      <td>0.0</td>\n",
       "      <td>0.0</td>\n",
       "      <td>0.0</td>\n",
       "      <td>0.0</td>\n",
       "      <td>0.0</td>\n",
       "      <td>0.0</td>\n",
       "      <td>0.0</td>\n",
       "      <td>...</td>\n",
       "      <td>0.0</td>\n",
       "      <td>0.0</td>\n",
       "      <td>0.0</td>\n",
       "      <td>0.0</td>\n",
       "      <td>0.0</td>\n",
       "      <td>0.0</td>\n",
       "      <td>0.0</td>\n",
       "      <td>0.0</td>\n",
       "      <td>0.0</td>\n",
       "      <td>0.0</td>\n",
       "    </tr>\n",
       "    <tr>\n",
       "      <th>3</th>\n",
       "      <td>0.0</td>\n",
       "      <td>0.0</td>\n",
       "      <td>0.0</td>\n",
       "      <td>0.0</td>\n",
       "      <td>0.0</td>\n",
       "      <td>0.0</td>\n",
       "      <td>0.0</td>\n",
       "      <td>0.0</td>\n",
       "      <td>0.0</td>\n",
       "      <td>0.0</td>\n",
       "      <td>...</td>\n",
       "      <td>0.0</td>\n",
       "      <td>0.0</td>\n",
       "      <td>0.0</td>\n",
       "      <td>0.0</td>\n",
       "      <td>0.0</td>\n",
       "      <td>0.0</td>\n",
       "      <td>0.0</td>\n",
       "      <td>0.0</td>\n",
       "      <td>0.0</td>\n",
       "      <td>0.0</td>\n",
       "    </tr>\n",
       "    <tr>\n",
       "      <th>4</th>\n",
       "      <td>0.0</td>\n",
       "      <td>0.0</td>\n",
       "      <td>0.0</td>\n",
       "      <td>0.0</td>\n",
       "      <td>0.0</td>\n",
       "      <td>0.0</td>\n",
       "      <td>0.0</td>\n",
       "      <td>0.0</td>\n",
       "      <td>0.0</td>\n",
       "      <td>0.0</td>\n",
       "      <td>...</td>\n",
       "      <td>0.0</td>\n",
       "      <td>0.0</td>\n",
       "      <td>0.0</td>\n",
       "      <td>0.0</td>\n",
       "      <td>0.0</td>\n",
       "      <td>0.0</td>\n",
       "      <td>0.0</td>\n",
       "      <td>0.0</td>\n",
       "      <td>0.0</td>\n",
       "      <td>0.0</td>\n",
       "    </tr>\n",
       "    <tr>\n",
       "      <th>5</th>\n",
       "      <td>0.0</td>\n",
       "      <td>0.0</td>\n",
       "      <td>0.0</td>\n",
       "      <td>0.0</td>\n",
       "      <td>0.0</td>\n",
       "      <td>0.0</td>\n",
       "      <td>0.0</td>\n",
       "      <td>0.0</td>\n",
       "      <td>0.0</td>\n",
       "      <td>0.0</td>\n",
       "      <td>...</td>\n",
       "      <td>0.0</td>\n",
       "      <td>0.0</td>\n",
       "      <td>0.0</td>\n",
       "      <td>0.0</td>\n",
       "      <td>0.0</td>\n",
       "      <td>0.0</td>\n",
       "      <td>0.0</td>\n",
       "      <td>0.0</td>\n",
       "      <td>0.0</td>\n",
       "      <td>0.0</td>\n",
       "    </tr>\n",
       "  </tbody>\n",
       "</table>\n",
       "<p>6 rows × 8238 columns</p>\n",
       "</div>"
      ],
      "text/plain": [
       "   0     1     2     3     4     5     6     7     8     9     ...  8228  \\\n",
       "0   0.0   0.0   0.0   0.0   0.0   0.0   0.0   0.0   0.0   0.0  ...   0.0   \n",
       "1   0.0   0.0   0.0   0.0   0.0   0.0   0.0   0.0   0.0   0.0  ...   0.0   \n",
       "2   0.0   0.0   1.0   0.0   0.0   0.0   0.0   0.0   0.0   0.0  ...   0.0   \n",
       "3   0.0   0.0   0.0   0.0   0.0   0.0   0.0   0.0   0.0   0.0  ...   0.0   \n",
       "4   0.0   0.0   0.0   0.0   0.0   0.0   0.0   0.0   0.0   0.0  ...   0.0   \n",
       "5   0.0   0.0   0.0   0.0   0.0   0.0   0.0   0.0   0.0   0.0  ...   0.0   \n",
       "\n",
       "   8229  8230  8231  8232  8233  8234  8235  8236  8237  \n",
       "0   0.0   0.0   0.0   0.0   0.0   0.0   0.0   0.0   0.0  \n",
       "1   0.0   0.0   0.0   0.0   0.0   0.0   0.0   0.0   0.0  \n",
       "2   0.0   0.0   0.0   0.0   0.0   0.0   0.0   0.0   0.0  \n",
       "3   0.0   0.0   0.0   0.0   0.0   0.0   0.0   0.0   0.0  \n",
       "4   0.0   0.0   0.0   0.0   0.0   0.0   0.0   0.0   0.0  \n",
       "5   0.0   0.0   0.0   0.0   0.0   0.0   0.0   0.0   0.0  \n",
       "\n",
       "[6 rows x 8238 columns]"
      ]
     },
     "execution_count": 19,
     "metadata": {},
     "output_type": "execute_result"
    }
   ],
   "source": [
    "cprint(\"Performing ONE-HOT ENCODING.....\", \"green\")\n",
    "ys = tf.keras.utils.to_categorical(labels, num_classes=total_words)\n",
    "print(\"At row-5 and col-14 ==\", ys[5][14])\n",
    "pd.DataFrame(ys).head(6)"
   ]
  },
  {
   "cell_type": "code",
   "execution_count": 20,
   "id": "ce857396-ee88-4e9c-bd1b-c90754872811",
   "metadata": {},
   "outputs": [
    {
     "name": "stderr",
     "output_type": "stream",
     "text": [
      "WARNING:absl:`lr` is deprecated in Keras optimizer, please use `learning_rate` or use the legacy optimizer, e.g.,tf.keras.optimizers.legacy.Adam.\n"
     ]
    },
    {
     "name": "stdout",
     "output_type": "stream",
     "text": [
      "Epoch 1/50\n",
      "1515/1515 [==============================] - 168s 109ms/step - loss: 7.0058 - accuracy: 0.0840\n",
      "Epoch 2/50\n",
      "1515/1515 [==============================] - 176s 116ms/step - loss: 6.1847 - accuracy: 0.1398\n",
      "Epoch 3/50\n",
      "1515/1515 [==============================] - 173s 115ms/step - loss: 5.6434 - accuracy: 0.1706\n",
      "Epoch 4/50\n",
      "1515/1515 [==============================] - 223s 147ms/step - loss: 5.1473 - accuracy: 0.1960\n",
      "Epoch 5/50\n",
      "1515/1515 [==============================] - 283s 187ms/step - loss: 4.6838 - accuracy: 0.2204\n",
      "Epoch 6/50\n",
      "1515/1515 [==============================] - 178s 118ms/step - loss: 4.2533 - accuracy: 0.2526\n",
      "Epoch 7/50\n",
      "1515/1515 [==============================] - 171s 113ms/step - loss: 3.8519 - accuracy: 0.2936\n",
      "Epoch 8/50\n",
      "1515/1515 [==============================] - 178s 117ms/step - loss: 3.4768 - accuracy: 0.3449\n",
      "Epoch 9/50\n",
      "1515/1515 [==============================] - 178s 118ms/step - loss: 3.1282 - accuracy: 0.3978\n",
      "Epoch 10/50\n",
      "1515/1515 [==============================] - 153s 101ms/step - loss: 2.8151 - accuracy: 0.4500\n",
      "Epoch 11/50\n",
      "1515/1515 [==============================] - 149s 98ms/step - loss: 2.5349 - accuracy: 0.4999\n",
      "Epoch 12/50\n",
      "1515/1515 [==============================] - 148s 98ms/step - loss: 2.2884 - accuracy: 0.5469\n",
      "Epoch 13/50\n",
      "1515/1515 [==============================] - 149s 99ms/step - loss: 2.0678 - accuracy: 0.5882\n",
      "Epoch 14/50\n",
      "1515/1515 [==============================] - 156s 103ms/step - loss: 1.8747 - accuracy: 0.6249\n",
      "Epoch 15/50\n",
      "1515/1515 [==============================] - 166s 109ms/step - loss: 1.7011 - accuracy: 0.6612\n",
      "Epoch 16/50\n",
      "1515/1515 [==============================] - 157s 104ms/step - loss: 1.5486 - accuracy: 0.6908\n",
      "Epoch 17/50\n",
      "1515/1515 [==============================] - 167s 110ms/step - loss: 1.4161 - accuracy: 0.7159\n",
      "Epoch 18/50\n",
      "1515/1515 [==============================] - 152s 100ms/step - loss: 1.2981 - accuracy: 0.7394\n",
      "Epoch 19/50\n",
      "1515/1515 [==============================] - 155s 102ms/step - loss: 1.1964 - accuracy: 0.7583\n",
      "Epoch 20/50\n",
      "1515/1515 [==============================] - 157s 103ms/step - loss: 1.1078 - accuracy: 0.7764\n",
      "Epoch 21/50\n",
      "1515/1515 [==============================] - 150s 99ms/step - loss: 1.0304 - accuracy: 0.7914\n",
      "Epoch 22/50\n",
      "1515/1515 [==============================] - 151s 99ms/step - loss: 0.9629 - accuracy: 0.8040\n",
      "Epoch 23/50\n",
      "1515/1515 [==============================] - 150s 99ms/step - loss: 0.9066 - accuracy: 0.8137\n",
      "Epoch 24/50\n",
      "1515/1515 [==============================] - 149s 98ms/step - loss: 0.8575 - accuracy: 0.8223\n",
      "Epoch 25/50\n",
      "1515/1515 [==============================] - 158s 104ms/step - loss: 0.8154 - accuracy: 0.8300\n",
      "Epoch 26/50\n",
      "1515/1515 [==============================] - 155s 102ms/step - loss: 0.7801 - accuracy: 0.8355\n",
      "Epoch 27/50\n",
      "1515/1515 [==============================] - 155s 102ms/step - loss: 0.7511 - accuracy: 0.8397\n",
      "Epoch 28/50\n",
      "1515/1515 [==============================] - 156s 103ms/step - loss: 0.7248 - accuracy: 0.8426\n",
      "Epoch 29/50\n",
      "1515/1515 [==============================] - 156s 103ms/step - loss: 0.7036 - accuracy: 0.8463\n",
      "Epoch 30/50\n",
      "1515/1515 [==============================] - 156s 103ms/step - loss: 0.6847 - accuracy: 0.8476\n",
      "Epoch 31/50\n",
      "1515/1515 [==============================] - 155s 102ms/step - loss: 0.6687 - accuracy: 0.8491\n",
      "Epoch 32/50\n",
      "1515/1515 [==============================] - 154s 102ms/step - loss: 0.6561 - accuracy: 0.8511\n",
      "Epoch 33/50\n",
      "1515/1515 [==============================] - 155s 103ms/step - loss: 0.6465 - accuracy: 0.8512\n",
      "Epoch 34/50\n",
      "1515/1515 [==============================] - 161s 106ms/step - loss: 0.6351 - accuracy: 0.8528\n",
      "Epoch 35/50\n",
      "1515/1515 [==============================] - 164s 108ms/step - loss: 0.6256 - accuracy: 0.8534\n",
      "Epoch 36/50\n",
      "1515/1515 [==============================] - 170s 112ms/step - loss: 0.6187 - accuracy: 0.8534\n",
      "Epoch 37/50\n",
      "1515/1515 [==============================] - 157s 103ms/step - loss: 0.6114 - accuracy: 0.8543\n",
      "Epoch 38/50\n",
      "1515/1515 [==============================] - 158s 104ms/step - loss: 0.6064 - accuracy: 0.8536\n",
      "Epoch 39/50\n",
      "1515/1515 [==============================] - 172s 114ms/step - loss: 0.6027 - accuracy: 0.8536\n",
      "Epoch 40/50\n",
      "1515/1515 [==============================] - 162s 107ms/step - loss: 0.5985 - accuracy: 0.8548\n",
      "Epoch 41/50\n",
      "1515/1515 [==============================] - 149s 98ms/step - loss: 0.5943 - accuracy: 0.8555\n",
      "Epoch 42/50\n",
      "1515/1515 [==============================] - 151s 100ms/step - loss: 0.5893 - accuracy: 0.8546\n",
      "Epoch 43/50\n",
      "1515/1515 [==============================] - 158s 104ms/step - loss: 0.5864 - accuracy: 0.8550\n",
      "Epoch 44/50\n",
      "1515/1515 [==============================] - 235s 155ms/step - loss: 0.5870 - accuracy: 0.8548\n",
      "Epoch 45/50\n",
      "1515/1515 [==============================] - 170s 112ms/step - loss: 0.5818 - accuracy: 0.8551\n",
      "Epoch 46/50\n",
      "1515/1515 [==============================] - 172s 114ms/step - loss: 0.5787 - accuracy: 0.8557\n",
      "Epoch 47/50\n",
      "1515/1515 [==============================] - 175s 116ms/step - loss: 0.5764 - accuracy: 0.8558\n",
      "Epoch 48/50\n",
      "1515/1515 [==============================] - 172s 113ms/step - loss: 0.5771 - accuracy: 0.8551\n",
      "Epoch 49/50\n",
      "1515/1515 [==============================] - 169s 112ms/step - loss: 0.5732 - accuracy: 0.8551\n",
      "Epoch 50/50\n",
      "1515/1515 [==============================] - 170s 112ms/step - loss: 0.5720 - accuracy: 0.8549\n",
      "<keras.src.engine.sequential.Sequential object at 0x0000020ECA158250>\n"
     ]
    }
   ],
   "source": [
    "model = Sequential()\n",
    "model.add(Embedding(total_words, 100, input_length=max_sequence_len - 1))\n",
    "model.add(Bidirectional(LSTM(150)))\n",
    "model.add(Dense(total_words, activation=\"softmax\"))\n",
    "adam = Adam(lr=0.01)\n",
    "model.compile(loss=\"categorical_crossentropy\", optimizer=adam, metrics=[\"accuracy\"])\n",
    "history = model.fit(xs, ys, epochs=50, verbose=1)\n",
    "# print model.summary()\n",
    "print(model)"
   ]
  },
  {
   "cell_type": "code",
   "execution_count": 21,
   "id": "f1beefb2-01dc-4bfb-bd79-9799ef27b4a5",
   "metadata": {},
   "outputs": [
    {
     "name": "stdout",
     "output_type": "stream",
     "text": [
      "Model: \"sequential\"\n",
      "_________________________________________________________________\n",
      " Layer (type)                Output Shape              Param #   \n",
      "=================================================================\n",
      " embedding (Embedding)       (None, 39, 100)           823800    \n",
      "                                                                 \n",
      " bidirectional (Bidirection  (None, 300)               301200    \n",
      " al)                                                             \n",
      "                                                                 \n",
      " dense (Dense)               (None, 8238)              2479638   \n",
      "                                                                 \n",
      "=================================================================\n",
      "Total params: 3604638 (13.75 MB)\n",
      "Trainable params: 3604638 (13.75 MB)\n",
      "Non-trainable params: 0 (0.00 Byte)\n",
      "_________________________________________________________________\n"
     ]
    }
   ],
   "source": [
    "model.summary()"
   ]
  },
  {
   "cell_type": "markdown",
   "id": "d3f216e1-4753-45bf-95a8-d42275e16eca",
   "metadata": {},
   "source": [
    "## Plotting model accuracy and loss"
   ]
  },
  {
   "cell_type": "code",
   "execution_count": 22,
   "id": "f1e3d1af-2eb6-47ba-b31d-1601254c1322",
   "metadata": {},
   "outputs": [],
   "source": [
    "import matplotlib.pyplot as plt\n",
    "\n",
    "\n",
    "def plot_graphs(history, string):\n",
    "    plt.plot(history.history[string])\n",
    "    plt.xlabel(\"Epochs\")\n",
    "    plt.ylabel(string)\n",
    "    plt.show()"
   ]
  },
  {
   "cell_type": "markdown",
   "id": "0edcd216-8341-4cc6-b417-d2ac6b045fa3",
   "metadata": {},
   "source": [
    "### Graph of Accuracy"
   ]
  },
  {
   "cell_type": "code",
   "execution_count": 23,
   "id": "7b590d83-ec40-4ae9-a89f-2c540cd6129e",
   "metadata": {},
   "outputs": [
    {
     "data": {
      "image/png": "[encoded data removed]",
      "text/plain": [
       "<Figure size 640x480 with 1 Axes>"
      ]
     },
     "metadata": {},
     "output_type": "display_data"
    }
   ],
   "source": [
    "plot_graphs(history, \"accuracy\")"
   ]
  },
  {
   "cell_type": "markdown",
   "id": "1dfe8f9a-63d6-4f90-8589-97ec9fe4e422",
   "metadata": {},
   "source": [
    "### Graph of Loss"
   ]
  },
  {
   "cell_type": "code",
   "execution_count": 24,
   "id": "bd6b26a1-1e74-489a-8acc-33e19c0648b7",
   "metadata": {},
   "outputs": [
    {
     "data": {
      "image/png": "[encoded data removed]",
      "text/plain": [
       "<Figure size 640x480 with 1 Axes>"
      ]
     },
     "metadata": {},
     "output_type": "display_data"
    }
   ],
   "source": [
    "plot_graphs(history, \"loss\")"
   ]
  },
  {
   "cell_type": "code",
   "execution_count": 25,
   "id": "3e9a964a-0065-4a75-af65-9e6e1ba82323",
   "metadata": {},
   "outputs": [
    {
     "name": "stdout",
     "output_type": "stream",
     "text": [
      "1/1 [==============================] - 1s 895ms/step\n",
      "\u001b[31m[2529]\u001b[0m\n",
      "1/1 [==============================] - 0s 26ms/step\n",
      "\u001b[31m[759]\u001b[0m\n",
      "1/1 [==============================] - 0s 28ms/step\n",
      "\u001b[31m[8]\u001b[0m\n",
      "1/1 [==============================] - 0s 29ms/step\n",
      "\u001b[31m[3798]\u001b[0m\n",
      "1/1 [==============================] - 0s 28ms/step\n",
      "\u001b[31m[23]\u001b[0m\n",
      "implementation of rnn lstm and gru on\n"
     ]
    }
   ],
   "source": [
    "def output(text):\n",
    "    seed_text = text\n",
    "    next_words = 5\n",
    "\n",
    "    for _ in range(next_words):\n",
    "        token_list = tokenizer.texts_to_sequences([seed_text])[0]\n",
    "        token_list = pad_sequences(\n",
    "            [token_list], maxlen=max_sequence_len - 1, padding=\"pre\"\n",
    "        )\n",
    "        predicted = np.argmax(model.predict(token_list), axis=-1)\n",
    "        # model.predict_classes(token_list, verbose=0)\n",
    "        cprint(predicted, \"red\")\n",
    "        output_word = \"\"\n",
    "        for word, index in tokenizer.word_index.items():\n",
    "            if index == predicted:\n",
    "                output_word = word\n",
    "                break\n",
    "        seed_text += \" \" + output_word\n",
    "    print(seed_text)\n",
    "\n",
    "\n",
    "output(\"implementation of\")"
   ]
  },
  {
   "cell_type": "code",
   "execution_count": 26,
   "id": "048da7a4-fd07-41c2-acca-e5e8256f3642",
   "metadata": {},
   "outputs": [
    {
     "name": "stdout",
     "output_type": "stream",
     "text": [
      "1/1 [==============================] - 0s 28ms/step\n",
      "\u001b[31m[17]\u001b[0m\n",
      "1/1 [==============================] - 0s 27ms/step\n",
      "\u001b[31m[48]\u001b[0m\n",
      "1/1 [==============================] - 0s 24ms/step\n",
      "\u001b[31m[16]\u001b[0m\n",
      "1/1 [==============================] - 0s 26ms/step\n",
      "\u001b[31m[17]\u001b[0m\n",
      "1/1 [==============================] - 0s 25ms/step\n",
      "\u001b[31m[48]\u001b[0m\n",
      "python for data science — data science\n"
     ]
    }
   ],
   "source": [
    "output(\"python for\")"
   ]
  },
  {
   "cell_type": "code",
   "execution_count": 27,
   "id": "ba89909e-2662-4e81-994b-c8ec6ce7a7c0",
   "metadata": {},
   "outputs": [
    {
     "name": "stderr",
     "output_type": "stream",
     "text": [
      "C:\\Users\\Manish Yadav\\AppData\\Local\\Packages\\PythonSoftwareFoundation.Python.3.9_qbz5n2kfra8p0\\LocalCache\\local-packages\\Python39\\site-packages\\keras\\src\\engine\\training.py:3079: UserWarning: You are saving your model as an HDF5 file via `model.save()`. This file format is considered legacy. We recommend using instead the native Keras format, e.g. `model.save('my_model.keras')`.\n",
      "  saving_api.save_model(\n"
     ]
    }
   ],
   "source": [
    "model.save(\"model.h5\")"
   ]
  },
  {
   "cell_type": "code",
   "execution_count": 28,
   "id": "c286abae-c74a-498d-8660-678301ab8631",
   "metadata": {},
   "outputs": [
    {
     "name": "stdout",
     "output_type": "stream",
     "text": [
      "Model: \"sequential\"\n",
      "_________________________________________________________________\n",
      " Layer (type)                Output Shape              Param #   \n",
      "=================================================================\n",
      " embedding (Embedding)       (None, 39, 100)           823800    \n",
      "                                                                 \n",
      " bidirectional (Bidirection  (None, 300)               301200    \n",
      " al)                                                             \n",
      "                                                                 \n",
      " dense (Dense)               (None, 8238)              2479638   \n",
      "                                                                 \n",
      "=================================================================\n",
      "Total params: 3604638 (13.75 MB)\n",
      "Trainable params: 3604638 (13.75 MB)\n",
      "Non-trainable params: 0 (0.00 Byte)\n",
      "_________________________________________________________________\n"
     ]
    }
   ],
   "source": [
    "new_model = tf.keras.models.load_model(\"model.h5\")\n",
    "new_model.summary()"
   ]
  },
  {
   "cell_type": "code",
   "execution_count": 29,
   "id": "3a8dac27-05c6-4bda-a70f-ed9c5e7ac56d",
   "metadata": {},
   "outputs": [
    {
     "name": "stdout",
     "output_type": "stream",
     "text": [
      "[485]\n",
      "1/1 [==============================] - 1s 675ms/step\n",
      "\u001b[31m[6]\u001b[0m\n",
      "[485, 6]\n",
      "1/1 [==============================] - 0s 25ms/step\n",
      "\u001b[31m[2529]\u001b[0m\n",
      "[485, 6, 2529]\n",
      "1/1 [==============================] - 0s 59ms/step\n",
      "\u001b[31m[759]\u001b[0m\n",
      "[485, 6, 2529, 759]\n",
      "1/1 [==============================] - 0s 27ms/step\n",
      "\u001b[31m[8]\u001b[0m\n",
      "[485, 6, 2529, 759, 8]\n",
      "1/1 [==============================] - 0s 26ms/step\n",
      "\u001b[31m[3798]\u001b[0m\n",
      "implementation of rnn lstm and gru\n"
     ]
    }
   ],
   "source": [
    "def output_2(text):\n",
    "    seed_text = text\n",
    "    next_words = 5\n",
    "\n",
    "    for _ in range(next_words):\n",
    "        token_list = tokenizer.texts_to_sequences([seed_text])[0]\n",
    "        print(token_list)\n",
    "        token_list = pad_sequences(\n",
    "            [token_list], maxlen=max_sequence_len - 1, padding=\"pre\"\n",
    "        )\n",
    "\n",
    "        predicted = np.argmax(new_model.predict(token_list), axis=-1)\n",
    "        # model.predict_classes(token_list, verbose=0)\n",
    "        cprint(predicted, \"red\")\n",
    "        output_word = \"\"\n",
    "        for word, index in tokenizer.word_index.items():\n",
    "            if index == predicted:\n",
    "                output_word = word\n",
    "                break\n",
    "        seed_text += \" \" + output_word\n",
    "    print(seed_text)\n",
    "\n",
    "\n",
    "output_2(\"implementation\")"
   ]
  }
 ],
 "metadata": {
  "kernelspec": {
   "display_name": "Python 3 (ipykernel)",
   "language": "python",
   "name": "python3"
  },
  "language_info": {
   "codemirror_mode": {
    "name": "ipython",
    "version": 3
   },
   "file_extension": ".py",
   "mimetype": "text/x-python",
   "name": "python",
   "nbconvert_exporter": "python",
   "pygments_lexer": "ipython3",
   "version": "3.9.13"
  },
  "latex_envs": {
   "LaTeX_envs_menu_present": true,
   "autoclose": false,
   "autocomplete": true,
   "bibliofile": "biblio.bib",
   "cite_by": "apalike",
   "current_citInitial": 1,
   "eqLabelWithNumbers": true,
   "eqNumInitial": 1,
   "hotkeys": {
    "equation": "Ctrl-E",
    "itemize": "Ctrl-I"
   },
   "labels_anchors": false,
   "latex_user_defs": false,
   "report_style_numbering": false,
   "user_envs_cfg": false
  },
  "toc": {
   "base_numbering": 1,
   "nav_menu": {},
   "number_sections": true,
   "sideBar": true,
   "skip_h1_title": false,
   "title_cell": "Table of Contents",
   "title_sidebar": "Contents",
   "toc_cell": false,
   "toc_position": {},
   "toc_section_display": true,
   "toc_window_display": false
  },
  "vscode": {
   "interpreter": {
    "hash": "a226d04346cdb28442adc1fd1ae95d38f5bfee8f2f93d7e8a40f9a2799d5e3a9"
   }
  }
 },
 "nbformat": 4,
 "nbformat_minor": 5
}
